{
  "cells": [
    {
      "cell_type": "markdown",
      "metadata": {
        "id": "fCO3VeNzvGDc"
      },
      "source": [
        "# Exercise 4"
      ]
    },
    {
      "cell_type": "markdown",
      "metadata": {
        "id": "UCFGr2qPKONg"
      },
      "source": [
        "#### Pre-defined sorting algorithms"
      ]
    },
    {
      "cell_type": "code",
      "execution_count": 5,
      "metadata": {
        "id": "dXWXOLWtKONg"
      },
      "outputs": [],
      "source": [
        "def mergeSort(array):\n",
        "    if len(array) > 1:\n",
        "\n",
        "        #  r is the point where the array is divided into two subarrays\n",
        "        r = len(array)//2\n",
        "        L = array[:r]\n",
        "        M = array[r:]\n",
        "\n",
        "        # Sort the two halves\n",
        "        mergeSort(L)\n",
        "        mergeSort(M)\n",
        "\n",
        "        i = j = k = 0\n",
        "\n",
        "        # Until we reach either end of either L or M, pick larger among\n",
        "        # elements L and M and place them in the correct position at A[p..r]\n",
        "        while i < len(L) and j < len(M):\n",
        "            if L[i] < M[j]:\n",
        "                array[k] = L[i]\n",
        "                i += 1\n",
        "            else:\n",
        "                array[k] = M[j]\n",
        "                j += 1\n",
        "            k += 1\n",
        "\n",
        "        # When we run out of elements in either L or M,\n",
        "        # pick up the remaining elements and put in A[p..r]\n",
        "        while i < len(L):\n",
        "            array[k] = L[i]\n",
        "            i += 1\n",
        "            k += 1\n",
        "\n",
        "        while j < len(M):\n",
        "            array[k] = M[j]\n",
        "            j += 1\n",
        "            k += 1\n",
        "\n",
        "# Print the array\n",
        "def printList(array):\n",
        "    for i in range(len(array)):\n",
        "        print(array[i], end=\" \")\n",
        "    print()"
      ]
    },
    {
      "cell_type": "code",
      "execution_count": 4,
      "metadata": {
        "id": "OB-JMVxvKONi"
      },
      "outputs": [],
      "source": [
        "def countingSort(array):\n",
        "    size = len(array)\n",
        "    output = [0] * size\n",
        "\n",
        "    # Initialize count array\n",
        "    count = [0] * 10\n",
        "\n",
        "    # Store the count of each elements in count array\n",
        "    for i in range(0, size):\n",
        "        count[array[i]] += 1\n",
        "\n",
        "    # Store the cummulative count\n",
        "    for i in range(1, 10):\n",
        "        count[i] += count[i - 1]\n",
        "\n",
        "    # Find the index of each element of the original array in count array\n",
        "    # place the elements in output array\n",
        "    i = size - 1\n",
        "    while i >= 0:\n",
        "        output[count[array[i]] - 1] = array[i]\n",
        "        count[array[i]] -= 1\n",
        "        i -= 1\n",
        "\n",
        "    # Copy the sorted elements into original array\n",
        "    for i in range(0, size):\n",
        "        array[i] = output[i]"
      ]
    },
    {
      "cell_type": "code",
      "execution_count": 3,
      "metadata": {
        "id": "VXaukk4_KONj"
      },
      "outputs": [],
      "source": [
        "def insertionSort(array):\n",
        "\n",
        "    for step in range(1, len(array)):\n",
        "        key = array[step]\n",
        "        j = step - 1\n",
        "\n",
        "        # Compare key with each element on the left of it until an element smaller than it is found\n",
        "        # For descending order, change key<array[j] to key>array[j].\n",
        "        while j >= 0 and key < array[j]:\n",
        "            array[j + 1] = array[j]\n",
        "            j = j - 1\n",
        "\n",
        "        # Place key at after the element just smaller than it.\n",
        "        array[j + 1] = key"
      ]
    },
    {
      "cell_type": "code",
      "execution_count": 12,
      "metadata": {
        "id": "b4yWHH1nKONj"
      },
      "outputs": [],
      "source": [
        "# Bubble sort in Python\n",
        "def bubbleSort(array):\n",
        "\n",
        "  # loop to access each array element\n",
        "  for i in range(len(array)):\n",
        "\n",
        "    # loop to compare array elements\n",
        "    for j in range(0, len(array) - i - 1):\n",
        "\n",
        "      # compare two adjacent elements\n",
        "      # change > to < to sort in descending order\n",
        "      if array[j] > array[j + 1]:\n",
        "\n",
        "        # swapping elements if elements\n",
        "        # are not in the intended order\n",
        "        temp = array[j]\n",
        "        array[j] = array[j+1]\n",
        "        array[j+1] = temp"
      ]
    },
    {
      "cell_type": "markdown",
      "metadata": {
        "id": "6j9PZVsyvGDe"
      },
      "source": [
        "#### 1. Sort your **student number** in **ascending order**\n",
        "\n",
        "Example:\n",
        "\n",
        "**Input: 2022123456**\n",
        "\n",
        "**Output: 0122223456**"
      ]
    },
    {
      "cell_type": "code",
      "execution_count": 13,
      "metadata": {
        "id": "UuNMRCm3vGDe",
        "outputId": "a7bcef30-c71f-417f-d1d6-9830e9bf502a",
        "colab": {
          "base_uri": "https://localhost:8080/"
        }
      },
      "outputs": [
        {
          "output_type": "stream",
          "name": "stdout",
          "text": [
            "0 1 2 2 2 2 3 4 5 6 \n"
          ]
        }
      ],
      "source": [
        "# put your answer here\n",
        "student_number = 2022123456\n",
        "number_list = [int(digit) for digit in str(student_number)]\n",
        "mergeSort(number_list)\n",
        "printList(number_list)"
      ]
    },
    {
      "cell_type": "markdown",
      "metadata": {
        "id": "felukBjnvGDf"
      },
      "source": [
        "#### 2. Sort the **dates** in **ascending order**.\n",
        "\n",
        "dates = [\"12-25-2023\", birthday, \"01-01-2023\"]\n",
        "\n",
        "Enter your birthday in the birthday variable."
      ]
    },
    {
      "cell_type": "code",
      "execution_count": 10,
      "metadata": {
        "id": "f8xQ3N0jvGDg",
        "outputId": "8114145d-47d2-487b-9418-19651527657c",
        "colab": {
          "base_uri": "https://localhost:8080/"
        }
      },
      "outputs": [
        {
          "output_type": "stream",
          "name": "stdout",
          "text": [
            "01-01-2023\n",
            "03-01-2004\n",
            "12-25-2023\n"
          ]
        }
      ],
      "source": [
        "# put your answer here\n",
        "\n",
        "# Your birthday should be in mm-dd-yyyy\n",
        "birthday = \"03-01-2004\"\n",
        "\n",
        "dates = [\"12-25-2023\", birthday, \"01-01-2023\"]\n",
        "\n",
        "mergeSort(dates)\n",
        "for date in dates:\n",
        "    print(date)"
      ]
    },
    {
      "cell_type": "markdown",
      "metadata": {
        "id": "IFDPeGZxvGDg"
      },
      "source": [
        "#### 3. Count the **total number of swaps** to sort the list below using **Bubble Sort**\n",
        "\n",
        "|3|2|5|1|4|\n",
        "|---|----|---|---|---|"
      ]
    },
    {
      "cell_type": "code",
      "execution_count": 32,
      "metadata": {
        "id": "b1ppwLcevGDg",
        "outputId": "5f85b081-1da1-42cd-8740-f0e1d14ca80e",
        "colab": {
          "base_uri": "https://localhost:8080/"
        }
      },
      "outputs": [
        {
          "output_type": "stream",
          "name": "stdout",
          "text": [
            "5\n"
          ]
        }
      ],
      "source": [
        "# put your answer here\n",
        "def bubbleSort(array):\n",
        "    swaps = 0\n",
        "    for i in range(len(array)):\n",
        "        for j in range(0, len(array) - i - 1):\n",
        "            if array[j] > array[j + 1]:\n",
        "                array[j], array[j + 1] = array[j + 1], array[j]\n",
        "                swaps += 1\n",
        "\n",
        "    return swaps\n",
        "\n",
        "arr = [3, 2, 5, 1, 4]\n",
        "totalswaps = bubbleSort(arr)\n",
        "print(totalswaps)\n"
      ]
    },
    {
      "cell_type": "markdown",
      "metadata": {
        "id": "iO2UusQWvGDi"
      },
      "source": [
        "#### 4. Count the **total number of steps** to sort the list below using **Insertion Sort**\n",
        "\n",
        "\n",
        "|6|2|5|7|4|1|8|9|3|\n",
        "|---|---|---|---|---|---|---|---|---|"
      ]
    },
    {
      "cell_type": "code",
      "execution_count": 38,
      "metadata": {
        "id": "vq1PYEjmvGDi",
        "outputId": "071df846-a1a2-4899-d0db-1e293e7e364a",
        "colab": {
          "base_uri": "https://localhost:8080/"
        }
      },
      "outputs": [
        {
          "output_type": "stream",
          "name": "stdout",
          "text": [
            "Sorted List: [1, 2, 3, 4, 5, 6, 7, 8, 9]\n",
            "24\n"
          ]
        }
      ],
      "source": [
        "# put your answer here\n",
        "def insertionSort(array):\n",
        "    steps = 0\n",
        "    for i in range(1, len(array)):\n",
        "        key, j = array[i], i - 1\n",
        "        while j >= 0 and key < array[j]:\n",
        "            array[j + 1], j, steps = array[j], j - 1, steps + 1\n",
        "        array[j + 1], steps = key, steps + 1\n",
        "    return steps\n",
        "\n",
        "input_list = [6, 2, 5, 7, 4, 1, 8, 9, 3]\n",
        "numberofsteps = insertionSort(input_list)\n",
        "\n",
        "print(\"Sorted List:\", input_list)\n",
        "print(numberofsteps)\n"
      ]
    },
    {
      "cell_type": "markdown",
      "metadata": {
        "id": "jpfNCCdbvGDj"
      },
      "source": [
        "#### 5. Given the list below:\n",
        "\n",
        "\n",
        "|7|5|4|3|2|5|1|8|\n",
        "|---|---|---|---|---|---|---|---|\n",
        "\n",
        "Using **merge sort** and **counting sort**\n",
        "\n",
        "Determine which sorting algorithm is faster by counting the total number of steps for each algorithm\n"
      ]
    },
    {
      "cell_type": "code",
      "execution_count": 41,
      "metadata": {
        "id": "2YVK17cSvGDj",
        "outputId": "be536b58-c8c2-4264-d0c4-b91b9698fa74",
        "colab": {
          "base_uri": "https://localhost:8080/"
        }
      },
      "outputs": [
        {
          "output_type": "stream",
          "name": "stdout",
          "text": [
            "Merge sort is faster\n",
            "Merge Sort Steps: 7\n",
            "Counting Sort Steps: 8\n"
          ]
        }
      ],
      "source": [
        "# put your answer here\n",
        "\n",
        "def mergeSort(array, merge_sort_num_steps):\n",
        "    if len(array) > 1:\n",
        "        r = len(array) // 2\n",
        "        L = array[:r]\n",
        "        M = array[r:]\n",
        "\n",
        "        mergeSort(L, merge_sort_num_steps)\n",
        "        mergeSort(M, merge_sort_num_steps)\n",
        "\n",
        "        i = j = k = 0\n",
        "\n",
        "        while i < len(L) and j < len(M):\n",
        "            if L[i] < M[j]:\n",
        "                array[k] = L[i]\n",
        "                i += 1\n",
        "            else:\n",
        "                array[k] = M[j]\n",
        "                j += 1\n",
        "            k += 1\n",
        "\n",
        "        while i < len(L):\n",
        "            array[k] = L[i]\n",
        "            i += 1\n",
        "            k += 1\n",
        "\n",
        "        while j < len(M):\n",
        "            array[k] = M[j]\n",
        "            j += 1\n",
        "            k += 1\n",
        "\n",
        "        merge_sort_num_steps[0] += 1\n",
        "\n",
        "def countingSort(array, counting_sort_num_steps):\n",
        "    size = len(array)\n",
        "    output = [0] * size\n",
        "    count = [0] * 10\n",
        "\n",
        "    for i in range(0, size):\n",
        "        count[array[i]] += 1\n",
        "\n",
        "    for i in range(1, 10):\n",
        "        count[i] += count[i - 1]\n",
        "\n",
        "    i = size - 1\n",
        "    while i >= 0:\n",
        "        output[count[array[i]] - 1] = array[i]\n",
        "        count[array[i]] -= 1\n",
        "        i -= 1\n",
        "\n",
        "    for i in range(0, size):\n",
        "        array[i] = output[i]\n",
        "    counting_sort_num_steps[0] += size\n",
        "\n",
        "\n",
        "arr = [7, 5, 4, 3, 2, 5, 1, 8]\n",
        "\n",
        "\n",
        "merge_sort_num_steps = [0]\n",
        "counting_sort_num_steps = [0]\n",
        "\n",
        "\n",
        "mergeSort(arr.copy(), merge_sort_num_steps)\n",
        "\n",
        "\n",
        "arr = [7, 5, 4, 3, 2, 5, 1, 8]\n",
        "\n",
        "countingSort(arr, counting_sort_num_steps)\n",
        "\n",
        "if merge_sort_num_steps[0] < counting_sort_num_steps[0]:\n",
        "    print(\"Merge sort is faster\")\n",
        "else:\n",
        "    print(\"Counting sort is faster\")\n",
        "\n",
        "print(\"Merge Sort Steps:\", merge_sort_num_steps[0])\n",
        "print(\"Counting Sort Steps:\", counting_sort_num_steps[0])\n"
      ]
    }
  ],
  "metadata": {
    "colab": {
      "provenance": []
    },
    "kernelspec": {
      "display_name": "Python 3",
      "language": "python",
      "name": "python3"
    },
    "language_info": {
      "codemirror_mode": {
        "name": "ipython",
        "version": 3
      },
      "file_extension": ".py",
      "mimetype": "text/x-python",
      "name": "python",
      "nbconvert_exporter": "python",
      "pygments_lexer": "ipython3",
      "version": "3.11.4"
    },
    "orig_nbformat": 4
  },
  "nbformat": 4,
  "nbformat_minor": 0
}