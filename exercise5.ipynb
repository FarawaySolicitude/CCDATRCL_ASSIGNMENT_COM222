{
  "cells": [
    {
      "cell_type": "markdown",
      "metadata": {
        "id": "cbD0n66vjOwD"
      },
      "source": [
        "# Exercise 5"
      ]
    },
    {
      "cell_type": "markdown",
      "metadata": {
        "id": "Eu0S2BkDjOwI"
      },
      "source": [
        "#### 1. Create a dictionary of your 10 favorite songs."
      ]
    },
    {
      "cell_type": "markdown",
      "metadata": {
        "id": "4XjM_Zr7jOwJ"
      },
      "source": [
        "Example:\n",
        "\n",
        "|KEY|VALUE|\n",
        "|---|---|\n",
        "|001|My Love|\n",
        "|002|Like a rose|"
      ]
    },
    {
      "cell_type": "code",
      "execution_count": 6,
      "metadata": {
        "id": "8CUi1SJPjOwK",
        "outputId": "7bf2dd36-35c2-46f9-efe8-715fde5dfe71",
        "colab": {
          "base_uri": "https://localhost:8080/"
        }
      },
      "outputs": [
        {
          "output_type": "stream",
          "name": "stdout",
          "text": [
            "{'001': 'Die For You', '002': 'Raining in Manila', '003': 'Is There Someone Else?', '004': 'Midnight City', '005': 'Stay', '006': 'Mine', '007': 'Starboy', '008': \"I Ain't Worried\", '009': 'Nangangamba', '010': 'Sino'}\n"
          ]
        }
      ],
      "source": [
        "# put your answer here\n",
        "mydictionary = {\n",
        "  \"001\": \"Die For You\",\n",
        "  \"002\": \"Raining in Manila\",\n",
        "  \"003\": \"Is There Someone Else?\",\n",
        "  \"004\": \"Midnight City\",\n",
        "  \"005\": \"Stay\",\n",
        "  \"006\": \"Mine\",\n",
        "  \"007\": \"Starboy\",\n",
        "  \"008\": \"I Ain't Worried\",\n",
        "  \"009\": \"Nangangamba\",\n",
        "  \"010\": \"Sino\"\n",
        "}\n",
        "print(mydictionary)"
      ]
    },
    {
      "cell_type": "markdown",
      "metadata": {
        "id": "2Ozn4cE_jOwL"
      },
      "source": [
        "#### 2. Loop through the dictionary by its **key** and **value**"
      ]
    },
    {
      "cell_type": "code",
      "execution_count": 7,
      "metadata": {
        "id": "tmHDyioJjOwM",
        "outputId": "1782c224-d47c-4fb4-a3f4-4d9e6cbfe1a1",
        "colab": {
          "base_uri": "https://localhost:8080/"
        }
      },
      "outputs": [
        {
          "output_type": "stream",
          "name": "stdout",
          "text": [
            "001 Die For You\n",
            "002 Raining in Manila\n",
            "003 Is There Someone Else?\n",
            "004 Midnight City\n",
            "005 Stay\n",
            "006 Mine\n",
            "007 Starboy\n",
            "008 I Ain't Worried\n",
            "009 Nangangamba\n",
            "010 Sino\n"
          ]
        }
      ],
      "source": [
        "# put your answer here\n",
        "for x, y in mydictionary.items():\n",
        "  print(x, y)"
      ]
    },
    {
      "cell_type": "markdown",
      "metadata": {
        "id": "vgZLuKuBjOwM"
      },
      "source": [
        "#### 3. Add one additional song"
      ]
    },
    {
      "cell_type": "code",
      "execution_count": 8,
      "metadata": {
        "id": "drTbIQWJjOwN",
        "outputId": "9056af88-4399-4aa3-e3cc-285769d8c4c5",
        "colab": {
          "base_uri": "https://localhost:8080/"
        }
      },
      "outputs": [
        {
          "output_type": "execute_result",
          "data": {
            "text/plain": [
              "{'001': 'Die For You',\n",
              " '002': 'Raining in Manila',\n",
              " '003': 'Is There Someone Else?',\n",
              " '004': 'Midnight City',\n",
              " '005': 'Stay',\n",
              " '006': 'Mine',\n",
              " '007': 'Starboy',\n",
              " '008': \"I Ain't Worried\",\n",
              " '009': 'Nangangamba',\n",
              " '010': 'Sino',\n",
              " '011': 'Umaasa'}"
            ]
          },
          "metadata": {},
          "execution_count": 8
        }
      ],
      "source": [
        "# put your answer here\n",
        "mydictionary.update({\"011\": \"Umaasa\"})\n",
        "mydictionary"
      ]
    },
    {
      "cell_type": "markdown",
      "metadata": {
        "id": "he49weCejOwN"
      },
      "source": [
        "#### 4. Remove one song"
      ]
    },
    {
      "cell_type": "code",
      "execution_count": 9,
      "metadata": {
        "id": "ds7JgKu9jOwO",
        "outputId": "6c342501-211f-47cf-be48-4187d7f684ba",
        "colab": {
          "base_uri": "https://localhost:8080/"
        }
      },
      "outputs": [
        {
          "output_type": "execute_result",
          "data": {
            "text/plain": [
              "{'001': 'Die For You',\n",
              " '002': 'Raining in Manila',\n",
              " '003': 'Is There Someone Else?',\n",
              " '004': 'Midnight City',\n",
              " '005': 'Stay',\n",
              " '006': 'Mine',\n",
              " '007': 'Starboy',\n",
              " '008': \"I Ain't Worried\",\n",
              " '009': 'Nangangamba',\n",
              " '010': 'Sino'}"
            ]
          },
          "metadata": {},
          "execution_count": 9
        }
      ],
      "source": [
        "# put your answer here\n",
        "mydictionary.pop(\"011\")\n",
        "mydictionary\n"
      ]
    },
    {
      "cell_type": "markdown",
      "metadata": {
        "id": "LDQuJDZyjOwP"
      },
      "source": [
        "#### 5. Create a nested dictionary of your 10 favorite songs with 5 genres. Display all of the items of the nested dictionary\n",
        "\n",
        "- Each nested dictionary's key should be the genre of the song\n",
        "- Put each song in their respective genre"
      ]
    },
    {
      "cell_type": "markdown",
      "metadata": {
        "id": "YtwtooVujOwP"
      },
      "source": [
        "Example:\n",
        "\n",
        "\n",
        "|KEY|VALUE|\n",
        "|---|---|\n",
        "|Pop|{001, Baby}|\n",
        "|Rock|{001, Enter Sandman}|"
      ]
    },
    {
      "cell_type": "code",
      "execution_count": 11,
      "metadata": {
        "id": "wsGfjaofjOwQ",
        "outputId": "b88d184d-7069-4948-ed75-bdcc74eea1fb",
        "colab": {
          "base_uri": "https://localhost:8080/"
        }
      },
      "outputs": [
        {
          "output_type": "execute_result",
          "data": {
            "text/plain": [
              "{'Synthpop': {'004': 'Midnight City'},\n",
              " 'Pop': {'001': 'Die For You', '005': 'Stay', '008': \"I Ain't Worried\"},\n",
              " 'R&B': {'003': 'Is There Someone Else?', '006': 'Mine', '007': 'Starboy'},\n",
              " 'OPM': {'010': 'Sino', '009': 'Nangangamba'},\n",
              " 'City Pop': {'002': 'Raining in Manila'}}"
            ]
          },
          "metadata": {},
          "execution_count": 11
        }
      ],
      "source": [
        "# put your answer here\n",
        "mydictionary = {\n",
        "  \"Synthpop\" : {\n",
        "    \"004\" : \"Midnight City\"\n",
        "  },\n",
        "  \"Pop\" : {\n",
        "    \"001\" : \"Die For You\",\n",
        "    \"005\" : \"Stay\",\n",
        "    \"008\" : \"I Ain't Worried\"\n",
        "\n",
        "  },\n",
        "  \"R&B\" : {\n",
        "    \"003\" : \"Is There Someone Else?\",\n",
        "    \"006\" : \"Mine\",\n",
        "    \"007\" : \"Starboy\"\n",
        "\n",
        "  },\n",
        "  \"OPM\" : {\n",
        "    \"010\" : \"Sino\",\n",
        "    \"009\" : \"Nangangamba\",\n",
        "  },\n",
        "  \"City Pop\" : {\n",
        "    \"002\" : \"Raining in Manila\"\n",
        "  }\n",
        "}\n",
        "\n",
        "mydictionary"
      ]
    },
    {
      "cell_type": "markdown",
      "metadata": {
        "id": "dLQbPSQFjOwQ"
      },
      "source": [
        "#### 6. Print the first song of the first genre"
      ]
    },
    {
      "cell_type": "code",
      "execution_count": 12,
      "metadata": {
        "id": "zCGQAwN2jOwR",
        "outputId": "8c13a2b5-3be4-4f62-a312-b0d8e989f6f0",
        "colab": {
          "base_uri": "https://localhost:8080/"
        }
      },
      "outputs": [
        {
          "output_type": "stream",
          "name": "stdout",
          "text": [
            "Midnight City\n"
          ]
        }
      ],
      "source": [
        "# put your answer here\n",
        "print(mydictionary[\"Synthpop\"][\"004\"])"
      ]
    },
    {
      "cell_type": "markdown",
      "metadata": {
        "id": "CrxYZ6nnjOwR"
      },
      "source": [
        "#### 7. Print the first song of the last genre"
      ]
    },
    {
      "cell_type": "code",
      "execution_count": 13,
      "metadata": {
        "id": "70hbi_KrjOwS",
        "outputId": "44925ac9-2ce1-4cd2-a8bb-d942a5f8938d",
        "colab": {
          "base_uri": "https://localhost:8080/"
        }
      },
      "outputs": [
        {
          "output_type": "stream",
          "name": "stdout",
          "text": [
            "Raining in Manila\n"
          ]
        }
      ],
      "source": [
        "# put your answer here\n",
        "print(mydictionary[\"City Pop\"][\"002\"])"
      ]
    }
  ],
  "metadata": {
    "kernelspec": {
      "display_name": "Python 3",
      "language": "python",
      "name": "python3"
    },
    "language_info": {
      "codemirror_mode": {
        "name": "ipython",
        "version": 3
      },
      "file_extension": ".py",
      "mimetype": "text/x-python",
      "name": "python",
      "nbconvert_exporter": "python",
      "pygments_lexer": "ipython3",
      "version": "3.11.4"
    },
    "orig_nbformat": 4,
    "colab": {
      "provenance": []
    }
  },
  "nbformat": 4,
  "nbformat_minor": 0
}