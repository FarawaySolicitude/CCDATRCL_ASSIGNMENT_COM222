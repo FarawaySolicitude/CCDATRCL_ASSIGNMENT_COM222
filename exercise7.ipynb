{
  "cells": [
    {
      "cell_type": "markdown",
      "metadata": {
        "id": "e3Ja3uozAJlw"
      },
      "source": [
        "# Exercise 7"
      ]
    },
    {
      "cell_type": "code",
      "execution_count": 14,
      "metadata": {
        "id": "IW6uTwU8AJly"
      },
      "outputs": [],
      "source": [
        "class Node:\n",
        "    def __init__(self, item):\n",
        "        self.left = None\n",
        "        self.right = None\n",
        "        self.val = item"
      ]
    },
    {
      "cell_type": "code",
      "execution_count": 16,
      "metadata": {
        "id": "uxVFuimIAJlz"
      },
      "outputs": [],
      "source": [
        "def evaluateExpressionTree(root):\n",
        "\n",
        "    # empty tree\n",
        "    if root is None:\n",
        "        return 0\n",
        "\n",
        "    # leaf node\n",
        "    if root.left is None and root.right is None:\n",
        "        return int(root.val)\n",
        "\n",
        "    # evaluate left tree\n",
        "    left_sum = evaluateExpressionTree(root.left)\n",
        "\n",
        "    # evaluate right tree\n",
        "    right_sum = evaluateExpressionTree(root.right)\n",
        "\n",
        "    # check which operation to apply\n",
        "    if root.val == '+':\n",
        "        return left_sum + right_sum\n",
        "\n",
        "    elif root.val == '-':\n",
        "        return left_sum - right_sum\n",
        "\n",
        "    elif root.val == '*':\n",
        "        return left_sum * right_sum\n",
        "\n",
        "    else:\n",
        "        return left_sum // right_sum"
      ]
    },
    {
      "cell_type": "code",
      "execution_count": 15,
      "metadata": {
        "id": "-xWZXA-mAJl0"
      },
      "outputs": [],
      "source": [
        "def inorder(root):\n",
        "\n",
        "    if root:\n",
        "        # Traverse left\n",
        "        inorder(root.left)\n",
        "        # Traverse root\n",
        "        print(str(root.val) + \"->\", end='')\n",
        "        # Traverse right\n",
        "        inorder(root.right)"
      ]
    },
    {
      "cell_type": "markdown",
      "metadata": {
        "id": "CVtqxh5DAJl1"
      },
      "source": [
        "#### 1. Construct a binary expression tree\n",
        "\n",
        "$ (8 + 4) * (7 - 9) $"
      ]
    },
    {
      "cell_type": "code",
      "execution_count": 9,
      "metadata": {
        "id": "CxpP0zcVAJl1",
        "outputId": "5c68e6b5-13de-4f9a-dac2-fb1b80f8688a",
        "colab": {
          "base_uri": "https://localhost:8080/"
        }
      },
      "outputs": [
        {
          "output_type": "stream",
          "name": "stdout",
          "text": [
            "Result: -24\n",
            "In-order:\n",
            "8->+->4->*->7->-->9->"
          ]
        }
      ],
      "source": [
        "# put your answer here\n",
        "root = Node('*')\n",
        "node1 = Node('+')\n",
        "node2 = Node('-')\n",
        "node3 = Node('8')\n",
        "node4 = Node('4')\n",
        "node5 = Node('7')\n",
        "node6 = Node('9')\n",
        "\n",
        "root.left = node1\n",
        "root.right = node2\n",
        "node1.left = node3\n",
        "node1.right = node4\n",
        "node2.left = node5\n",
        "node2.right = node6\n",
        "\n",
        "result = evaluateExpressionTree(root)\n",
        "print(\"Result:\", result)\n",
        "\n",
        "print(\"In-order:\")\n",
        "inorder(root)\n"
      ]
    },
    {
      "cell_type": "markdown",
      "metadata": {
        "id": "jc5KHLk6AJl2"
      },
      "source": [
        "#### 2. Construct a binary expression tree\n",
        "\n",
        "$ 5 / 8 + 3 - 6 * 1 $"
      ]
    },
    {
      "cell_type": "code",
      "execution_count": 25,
      "metadata": {
        "id": "XORzqkC3AJl2",
        "outputId": "da1da0cf-2fbd-4aac-a086-b3b80d999183",
        "colab": {
          "base_uri": "https://localhost:8080/"
        }
      },
      "outputs": [
        {
          "output_type": "stream",
          "name": "stdout",
          "text": [
            "Result: -3\n",
            "In-order:\n",
            "5->%->8->+->3->-->6->*->1->"
          ]
        }
      ],
      "source": [
        "# put your answer here\n",
        "root = Node(\"-\")\n",
        "node1 = Node(\"+\")\n",
        "node2 = Node(\"*\")\n",
        "node3 = Node(\"%\")\n",
        "node4 = Node(\"3\")\n",
        "node5 = Node(\"5\")\n",
        "node6 = Node(\"8\")\n",
        "node7 = Node(\"6\")\n",
        "node8 = Node(\"1\")\n",
        "\n",
        "root.left = node1\n",
        "node1.left = node3\n",
        "node1.right = node4\n",
        "node3.left = node5\n",
        "node3.right = node6\n",
        "\n",
        "root.right = node2\n",
        "node2.left = node7\n",
        "node2.right = node8\n",
        "\n",
        "result = evaluateExpressionTree(root)\n",
        "print(\"Result:\", result)\n",
        "\n",
        "print(\"In-order:\")\n",
        "inorder(root)"
      ]
    },
    {
      "cell_type": "markdown",
      "metadata": {
        "id": "tu3n5ZdWAJl2"
      },
      "source": [
        "#### 3. Construct a binary expression tree\n",
        "\n",
        "$ ((2 + 5) / 3)- (3 + 8) $"
      ]
    },
    {
      "cell_type": "code",
      "execution_count": 24,
      "metadata": {
        "id": "5GvZBxgtAJl3",
        "outputId": "2221f9b4-37e9-4b5a-ff65-adc9e831c4e9",
        "colab": {
          "base_uri": "https://localhost:8080/"
        }
      },
      "outputs": [
        {
          "output_type": "stream",
          "name": "stdout",
          "text": [
            "Result: -9\n",
            "In-order:\n",
            "2->+->5->%->3->-->3->+->8->"
          ]
        }
      ],
      "source": [
        "# put your answer here\n",
        "root = Node(\"-\")\n",
        "node1 = Node(\"%\")\n",
        "node2 = Node(\"+\")\n",
        "node3 = Node(\"+\")\n",
        "node4 = Node(\"3\")\n",
        "node5 = Node(\"2\")\n",
        "node6 = Node(\"5\")\n",
        "node7 = Node(\"3\")\n",
        "node8 = Node(\"8\")\n",
        "\n",
        "root.left = node1\n",
        "node1.left = node3\n",
        "node1.right = node4\n",
        "node3.left = node5\n",
        "node3.right = node6\n",
        "root.right = node2\n",
        "node2.left = node7\n",
        "node2.right = node8\n",
        "\n",
        "result = evaluateExpressionTree(root)\n",
        "print(\"Result:\", result)\n",
        "\n",
        "print(\"In-order:\")\n",
        "inorder(root)\n"
      ]
    }
  ],
  "metadata": {
    "kernelspec": {
      "display_name": "Python 3",
      "language": "python",
      "name": "python3"
    },
    "language_info": {
      "codemirror_mode": {
        "name": "ipython",
        "version": 3
      },
      "file_extension": ".py",
      "mimetype": "text/x-python",
      "name": "python",
      "nbconvert_exporter": "python",
      "pygments_lexer": "ipython3",
      "version": "3.11.4"
    },
    "orig_nbformat": 4,
    "colab": {
      "provenance": []
    }
  },
  "nbformat": 4,
  "nbformat_minor": 0
}